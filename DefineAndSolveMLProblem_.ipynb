{
 "cells": [
  {
   "cell_type": "markdown",
   "metadata": {},
   "source": [
    "# Lab 8: Define and Solve an ML Problem of Your Choosing"
   ]
  },
  {
   "cell_type": "code",
   "execution_count": 1,
   "metadata": {},
   "outputs": [],
   "source": [
    "import pandas as pd\n",
    "import numpy as np\n",
    "import os \n",
    "import matplotlib.pyplot as plt\n",
    "import seaborn as sns"
   ]
  },
  {
   "cell_type": "markdown",
   "metadata": {},
   "source": [
    "In this lab assignment, you will follow the machine learning life cycle and implement a model to solve a machine learning problem of your choosing. You will select a data set and choose a predictive problem that the data set supports.  You will then inspect the data with your problem in mind and begin to formulate a  project plan. You will then implement the machine learning project plan. \n",
    "\n",
    "You will complete the following tasks:\n",
    "\n",
    "1. Build Your DataFrame\n",
    "2. Define Your ML Problem\n",
    "3. Perform exploratory data analysis to understand your data.\n",
    "4. Define Your Project Plan\n",
    "5. Implement Your Project Plan:\n",
    "    * Prepare your data for your model.\n",
    "    * Fit your model to the training data and evaluate your model.\n",
    "    * Improve your model's performance."
   ]
  },
  {
   "cell_type": "markdown",
   "metadata": {},
   "source": [
    "## Part 1: Build Your DataFrame\n",
    "\n",
    "You will have the option to choose one of four data sets that you have worked with in this program:\n",
    "\n",
    "* The \"census\" data set that contains Census information from 1994: `censusData.csv`\n",
    "* Airbnb NYC \"listings\" data set: `airbnbListingsData.csv`\n",
    "* World Happiness Report (WHR) data set: `WHR2018Chapter2OnlineData.csv`\n",
    "* Book Review data set: `bookReviewsData.csv`\n",
    "\n",
    "Note that these are variations of the data sets that you have worked with in this program. For example, some do not include some of the preprocessing necessary for specific models. \n",
    "\n",
    "#### Load a Data Set and Save it as a Pandas DataFrame\n",
    "\n",
    "The code cell below contains filenames (path + filename) for each of the four data sets available to you.\n",
    "\n",
    "<b>Task:</b> In the code cell below, use the same method you have been using to load the data using `pd.read_csv()` and save it to DataFrame `df`. \n",
    "\n",
    "You can load each file as a new DataFrame to inspect the data before choosing your data set."
   ]
  },
  {
   "cell_type": "code",
   "execution_count": 2,
   "metadata": {},
   "outputs": [
    {
     "data": {
      "text/html": [
       "<div>\n",
       "<style scoped>\n",
       "    .dataframe tbody tr th:only-of-type {\n",
       "        vertical-align: middle;\n",
       "    }\n",
       "\n",
       "    .dataframe tbody tr th {\n",
       "        vertical-align: top;\n",
       "    }\n",
       "\n",
       "    .dataframe thead th {\n",
       "        text-align: right;\n",
       "    }\n",
       "</style>\n",
       "<table border=\"1\" class=\"dataframe\">\n",
       "  <thead>\n",
       "    <tr style=\"text-align: right;\">\n",
       "      <th></th>\n",
       "      <th>firm</th>\n",
       "      <th>date_review</th>\n",
       "      <th>job_title</th>\n",
       "      <th>current</th>\n",
       "      <th>location</th>\n",
       "      <th>overall_rating</th>\n",
       "      <th>work_life_balance</th>\n",
       "      <th>culture_values</th>\n",
       "      <th>diversity_inclusion</th>\n",
       "      <th>career_opp</th>\n",
       "      <th>comp_benefits</th>\n",
       "      <th>senior_mgmt</th>\n",
       "      <th>recommend</th>\n",
       "      <th>ceo_approv</th>\n",
       "      <th>outlook</th>\n",
       "      <th>headline</th>\n",
       "      <th>pros</th>\n",
       "      <th>cons</th>\n",
       "    </tr>\n",
       "  </thead>\n",
       "  <tbody>\n",
       "    <tr>\n",
       "      <th>0</th>\n",
       "      <td>AFH-Wealth-Management</td>\n",
       "      <td>2015-04-05</td>\n",
       "      <td></td>\n",
       "      <td>Current Employee</td>\n",
       "      <td>NaN</td>\n",
       "      <td>2</td>\n",
       "      <td>4.0</td>\n",
       "      <td>3.0</td>\n",
       "      <td>NaN</td>\n",
       "      <td>2.0</td>\n",
       "      <td>3.0</td>\n",
       "      <td>3.0</td>\n",
       "      <td>x</td>\n",
       "      <td>o</td>\n",
       "      <td>r</td>\n",
       "      <td>Young colleagues, poor micro management</td>\n",
       "      <td>Very friendly and welcoming to new staff. Easy...</td>\n",
       "      <td>Poor salaries, poor training and communication.</td>\n",
       "    </tr>\n",
       "    <tr>\n",
       "      <th>1</th>\n",
       "      <td>AFH-Wealth-Management</td>\n",
       "      <td>2015-12-11</td>\n",
       "      <td>Office Administrator</td>\n",
       "      <td>Current Employee, more than 1 year</td>\n",
       "      <td>Bromsgrove, England, England</td>\n",
       "      <td>2</td>\n",
       "      <td>3.0</td>\n",
       "      <td>1.0</td>\n",
       "      <td>NaN</td>\n",
       "      <td>2.0</td>\n",
       "      <td>1.0</td>\n",
       "      <td>4.0</td>\n",
       "      <td>x</td>\n",
       "      <td>o</td>\n",
       "      <td>r</td>\n",
       "      <td>Excellent staff, poor salary</td>\n",
       "      <td>Friendly, helpful and hard-working colleagues</td>\n",
       "      <td>Poor salary which doesn't improve much with pr...</td>\n",
       "    </tr>\n",
       "    <tr>\n",
       "      <th>2</th>\n",
       "      <td>AFH-Wealth-Management</td>\n",
       "      <td>2016-01-28</td>\n",
       "      <td>Office Administrator</td>\n",
       "      <td>Current Employee, less than 1 year</td>\n",
       "      <td>Bromsgrove, England, England</td>\n",
       "      <td>1</td>\n",
       "      <td>1.0</td>\n",
       "      <td>1.0</td>\n",
       "      <td>NaN</td>\n",
       "      <td>1.0</td>\n",
       "      <td>1.0</td>\n",
       "      <td>1.0</td>\n",
       "      <td>x</td>\n",
       "      <td>o</td>\n",
       "      <td>x</td>\n",
       "      <td>Low salary, bad micromanagement</td>\n",
       "      <td>Easy to get the job even without experience in...</td>\n",
       "      <td>Very low salary, poor working conditions, very...</td>\n",
       "    </tr>\n",
       "    <tr>\n",
       "      <th>3</th>\n",
       "      <td>AFH-Wealth-Management</td>\n",
       "      <td>2016-04-16</td>\n",
       "      <td></td>\n",
       "      <td>Current Employee</td>\n",
       "      <td>NaN</td>\n",
       "      <td>5</td>\n",
       "      <td>2.0</td>\n",
       "      <td>3.0</td>\n",
       "      <td>NaN</td>\n",
       "      <td>2.0</td>\n",
       "      <td>2.0</td>\n",
       "      <td>3.0</td>\n",
       "      <td>x</td>\n",
       "      <td>o</td>\n",
       "      <td>r</td>\n",
       "      <td>Over promised under delivered</td>\n",
       "      <td>Nice staff to work with</td>\n",
       "      <td>No career progression and salary is poor</td>\n",
       "    </tr>\n",
       "    <tr>\n",
       "      <th>4</th>\n",
       "      <td>AFH-Wealth-Management</td>\n",
       "      <td>2016-04-23</td>\n",
       "      <td>Office Administrator</td>\n",
       "      <td>Current Employee, more than 1 year</td>\n",
       "      <td>Bromsgrove, England, England</td>\n",
       "      <td>1</td>\n",
       "      <td>2.0</td>\n",
       "      <td>1.0</td>\n",
       "      <td>NaN</td>\n",
       "      <td>2.0</td>\n",
       "      <td>1.0</td>\n",
       "      <td>1.0</td>\n",
       "      <td>x</td>\n",
       "      <td>o</td>\n",
       "      <td>x</td>\n",
       "      <td>client reporting admin</td>\n",
       "      <td>Easy to get the job, Nice colleagues.</td>\n",
       "      <td>Abysmal pay, around minimum wage. No actual tr...</td>\n",
       "    </tr>\n",
       "  </tbody>\n",
       "</table>\n",
       "</div>"
      ],
      "text/plain": [
       "                    firm date_review              job_title  \\\n",
       "0  AFH-Wealth-Management  2015-04-05                          \n",
       "1  AFH-Wealth-Management  2015-12-11   Office Administrator   \n",
       "2  AFH-Wealth-Management  2016-01-28   Office Administrator   \n",
       "3  AFH-Wealth-Management  2016-04-16                          \n",
       "4  AFH-Wealth-Management  2016-04-23   Office Administrator   \n",
       "\n",
       "                              current                      location  \\\n",
       "0                    Current Employee                           NaN   \n",
       "1  Current Employee, more than 1 year  Bromsgrove, England, England   \n",
       "2  Current Employee, less than 1 year  Bromsgrove, England, England   \n",
       "3                    Current Employee                           NaN   \n",
       "4  Current Employee, more than 1 year  Bromsgrove, England, England   \n",
       "\n",
       "   overall_rating  work_life_balance  culture_values  diversity_inclusion  \\\n",
       "0               2                4.0             3.0                  NaN   \n",
       "1               2                3.0             1.0                  NaN   \n",
       "2               1                1.0             1.0                  NaN   \n",
       "3               5                2.0             3.0                  NaN   \n",
       "4               1                2.0             1.0                  NaN   \n",
       "\n",
       "   career_opp  comp_benefits  senior_mgmt recommend ceo_approv outlook  \\\n",
       "0         2.0            3.0          3.0         x          o       r   \n",
       "1         2.0            1.0          4.0         x          o       r   \n",
       "2         1.0            1.0          1.0         x          o       x   \n",
       "3         2.0            2.0          3.0         x          o       r   \n",
       "4         2.0            1.0          1.0         x          o       x   \n",
       "\n",
       "                                  headline  \\\n",
       "0  Young colleagues, poor micro management   \n",
       "1             Excellent staff, poor salary   \n",
       "2          Low salary, bad micromanagement   \n",
       "3            Over promised under delivered   \n",
       "4                   client reporting admin   \n",
       "\n",
       "                                                pros  \\\n",
       "0  Very friendly and welcoming to new staff. Easy...   \n",
       "1      Friendly, helpful and hard-working colleagues   \n",
       "2  Easy to get the job even without experience in...   \n",
       "3                            Nice staff to work with   \n",
       "4              Easy to get the job, Nice colleagues.   \n",
       "\n",
       "                                                cons  \n",
       "0    Poor salaries, poor training and communication.  \n",
       "1  Poor salary which doesn't improve much with pr...  \n",
       "2  Very low salary, poor working conditions, very...  \n",
       "3           No career progression and salary is poor  \n",
       "4  Abysmal pay, around minimum wage. No actual tr...  "
      ]
     },
     "execution_count": 2,
     "metadata": {},
     "output_type": "execute_result"
    }
   ],
   "source": [
    "# File names of the four data sets\n",
    "adultDataSet_filename = os.path.join(os.getcwd(), \"data\", \"censusData.csv\")\n",
    "airbnbDataSet_filename = os.path.join(os.getcwd(), \"data\", \"airbnbListingsData.csv\")\n",
    "WHRDataSet_filename = os.path.join(os.getcwd(), \"data\", \"WHR2018Chapter2OnlineData.csv\")\n",
    "bookReviewDataSet_filename = os.path.join(os.getcwd(), \"data\", \"bookReviewsData.csv\")\n",
    "\n",
    "df = pd.read_csv(r\"C:\\Users\\aisha\\OneDrive\\Desktop\\BTT AI\\glassdoor_reviews.csv\\glassdoor_reviews.csv\")\n",
    "df.head()"
   ]
  },
  {
   "cell_type": "markdown",
   "metadata": {},
   "source": [
    "## Part 2: Define Your ML Problem\n",
    "\n",
    "Next you will formulate your ML Problem. In the markdown cell below, answer the following questions:\n",
    "\n",
    "1. List the data set you have chosen.\n",
    "2. What will you be predicting? What is the label?\n",
    "3. Is this a supervised or unsupervised learning problem? Is this a clustering, classification or regression problem? Is it a binary classificaiton or multi-class classifiction problem?\n",
    "4. What are your features? (note: this list may change after your explore your data)\n",
    "5. Explain why this is an important problem. In other words, how would a company create value with a model that predicts this label?"
   ]
  },
  {
   "cell_type": "markdown",
   "metadata": {},
   "source": [
    "The dataset I have chosen is the Glassdoor job reviews dataset, and I will be predicting the overall job rating, which is the label. This is a supervised learning problem and specifically a classification problem since the overall rating is a discrete value with categories ranging from 1 to 5. Features in the dataset include job title, location, work-life balance, company culture, and other review aspects. Predicting the overall rating is crucial for companies as it helps them enhance employee satisfaction, attract top talent, improve their reputation, and make strategic decisions that contribute to their competitive advantage."
   ]
  },
  {
   "cell_type": "markdown",
   "metadata": {},
   "source": [
    "## Part 3: Understand Your Data\n",
    "\n",
    "The next step is to perform exploratory data analysis. Inspect and analyze your data set with your machine learning problem in mind. Consider the following as you inspect your data:\n",
    "\n",
    "1. What data preparation techniques would you like to use? These data preparation techniques may include:\n",
    "\n",
    "    * addressing missingness, such as replacing missing values with means\n",
    "    * finding and replacing outliers\n",
    "    * renaming features and labels\n",
    "    * finding and replacing outliers\n",
    "    * performing feature engineering techniques such as one-hot encoding on categorical features\n",
    "    * selecting appropriate features and removing irrelevant features\n",
    "    * performing specific data cleaning and preprocessing techniques for an NLP problem\n",
    "    * addressing class imbalance in your data sample to promote fair AI\n",
    "    \n",
    "\n",
    "2. What machine learning model (or models) you would like to use that is suitable for your predictive problem and data?\n",
    "    * Are there other data preparation techniques that you will need to apply to build a balanced modeling data set for your problem and model? For example, will you need to scale your data?\n",
    " \n",
    " \n",
    "3. How will you evaluate and improve the model's performance?\n",
    "    * Are there specific evaluation metrics and methods that are appropriate for your model?\n",
    "    \n",
    "\n",
    "Think of the different techniques you have used to inspect and analyze your data in this course. These include using Pandas to apply data filters, using the Pandas `describe()` method to get insight into key statistics for each column, using the Pandas `dtypes` property to inspect the data type of each column, and using Matplotlib and Seaborn to detect outliers and visualize relationships between features and labels. If you are working on a classification problem, use techniques you have learned to determine if there is class imbalance.\n",
    "\n",
    "<b>Task</b>: Use the techniques you have learned in this course to inspect and analyze your data. You can import additional packages that you have used in this course that you will need to perform this task.\n",
    "\n",
    "<b>Note</b>: You can add code cells if needed by going to the <b>Insert</b> menu and clicking on <b>Insert Cell Below</b> in the drop-drown menu."
   ]
  },
  {
   "cell_type": "code",
   "execution_count": 3,
   "metadata": {},
   "outputs": [],
   "source": [
    "df['review_text'] = df[['headline', 'pros', 'cons']].fillna('').agg(' '.join, axis=1)\n",
    "\n",
    "df.drop(columns=['headline', 'pros', 'cons'], inplace=True)"
   ]
  },
  {
   "cell_type": "code",
   "execution_count": 4,
   "metadata": {},
   "outputs": [],
   "source": [
    "features = ['overall_rating', 'review_text', 'work_life_balance', \n",
    "                        'culture_values', 'diversity_inclusion',\n",
    "                        'career_opp', 'comp_benefits', 'senior_mgmt']\n",
    "\n",
    "df = df[features]"
   ]
  },
  {
   "cell_type": "code",
   "execution_count": 5,
   "metadata": {},
   "outputs": [
    {
     "name": "stdout",
     "output_type": "stream",
     "text": [
      "overall_rating           int64\n",
      "review_text             object\n",
      "work_life_balance      float64\n",
      "culture_values         float64\n",
      "diversity_inclusion    float64\n",
      "career_opp             float64\n",
      "comp_benefits          float64\n",
      "senior_mgmt            float64\n",
      "dtype: object\n",
      "(838566, 8)\n"
     ]
    }
   ],
   "source": [
    "print(df.dtypes)\n",
    "print(df.shape)"
   ]
  },
  {
   "cell_type": "code",
   "execution_count": 6,
   "metadata": {},
   "outputs": [
    {
     "name": "stdout",
     "output_type": "stream",
     "text": [
      "overall_rating          int32\n",
      "review_text            object\n",
      "work_life_balance       int32\n",
      "culture_values          int32\n",
      "diversity_inclusion     int32\n",
      "career_opp              int32\n",
      "comp_benefits           int32\n",
      "senior_mgmt             int32\n",
      "dtype: object\n",
      "(133863, 8)\n"
     ]
    }
   ],
   "source": [
    "df['overall_rating'] = pd.to_numeric(df['overall_rating'], errors='coerce')\n",
    "df['work_life_balance'] = pd.to_numeric(df['work_life_balance'], errors='coerce')\n",
    "df['culture_values'] = pd.to_numeric(df['culture_values'], errors='coerce')\n",
    "df['diversity_inclusion'] = pd.to_numeric(df['diversity_inclusion'], errors='coerce')\n",
    "df['career_opp'] = pd.to_numeric(df['career_opp'], errors='coerce')\n",
    "df['comp_benefits'] = pd.to_numeric(df['comp_benefits'], errors='coerce')\n",
    "df['senior_mgmt'] = pd.to_numeric(df['senior_mgmt'], errors='coerce')\n",
    "\n",
    "df.replace([np.inf, -np.inf], np.nan, inplace=True)\n",
    "\n",
    "df.dropna(subset=['overall_rating', 'work_life_balance', 'culture_values', 'diversity_inclusion', 'career_opp', 'comp_benefits', 'senior_mgmt'], inplace=True)\n",
    "\n",
    "df['overall_rating'] = df['overall_rating'].astype(int)\n",
    "df['work_life_balance'] = df['work_life_balance'].astype(int)\n",
    "df['culture_values'] = df['culture_values'].astype(int)\n",
    "df['diversity_inclusion'] = df['diversity_inclusion'].astype(int)\n",
    "df['career_opp'] = df['career_opp'].astype(int)\n",
    "df['comp_benefits'] = df['comp_benefits'].astype(int)\n",
    "df['senior_mgmt'] = df['senior_mgmt'].astype(int)\n",
    "\n",
    "# df['overall_rating'] = df['overall_rating'].fillna(df['overall_rating'].median()).astype(int)\n",
    "# df['work_life_balance'] = df['work_life_balance'].fillna(df['work_life_balance'].median()).astype(int)\n",
    "# df['culture_values'] = df['culture_values'].fillna(df['culture_values'].median()).astype(int)\n",
    "# df['diversity_inclusion'] = df['diversity_inclusion'].fillna(df['diversity_inclusion'].median()).astype(int)\n",
    "# df['career_opp'] = df['career_opp'].fillna(df['career_opp'].median()).astype(int)\n",
    "# df['comp_benefits'] = df['comp_benefits'].fillna(df['comp_benefits'].median()).astype(int)\n",
    "# df['senior_mgmt'] = df['senior_mgmt'].fillna(df['senior_mgmt'].median()).astype(int)\n",
    "\n",
    "print(df.dtypes)\n",
    "print(df.shape)"
   ]
  },
  {
   "cell_type": "code",
   "execution_count": 7,
   "metadata": {},
   "outputs": [
    {
     "name": "stdout",
     "output_type": "stream",
     "text": [
      "overall_rating         0\n",
      "review_text            0\n",
      "work_life_balance      0\n",
      "culture_values         0\n",
      "diversity_inclusion    0\n",
      "career_opp             0\n",
      "comp_benefits          0\n",
      "senior_mgmt            0\n",
      "dtype: int64\n"
     ]
    }
   ],
   "source": [
    "print(df.isnull().sum())"
   ]
  },
  {
   "cell_type": "code",
   "execution_count": 8,
   "metadata": {},
   "outputs": [
    {
     "name": "stdout",
     "output_type": "stream",
     "text": [
      "overall_rating          int32\n",
      "review_text            object\n",
      "work_life_balance       int32\n",
      "culture_values          int32\n",
      "diversity_inclusion     int32\n",
      "career_opp              int32\n",
      "comp_benefits           int32\n",
      "senior_mgmt             int32\n",
      "dtype: object\n"
     ]
    }
   ],
   "source": [
    "print(df.dtypes)"
   ]
  },
  {
   "cell_type": "markdown",
   "metadata": {},
   "source": [
    "## Part 4: Define Your Project Plan\n",
    "\n",
    "Now that you understand your data, in the markdown cell below, define your plan to implement the remaining phases of the machine learning life cycle (data preparation, modeling, evaluation) to solve your ML problem. Answer the following questions:\n",
    "\n",
    "* Do you have a new feature list? If so, what are the features that you chose to keep and remove after inspecting the data? \n",
    "* Explain different data preparation techniques that you will use to prepare your data for modeling.\n",
    "* What is your model (or models)?\n",
    "* Describe your plan to train your model, analyze its performance and then improve the model. That is, describe your model building, validation and selection plan to produce a model that generalizes well to new data. "
   ]
  },
  {
   "cell_type": "markdown",
   "metadata": {},
   "source": [
    "For this project, I will use the features: `review_text`, `overall_rating`, `work_life_balance`, `culture_values`, `diversity_inclusion`, `career_opp`, `comp_benefits`, and `senior_mgmt`. The review text will be processed with NLP techniques, including tokenization and TF-IDF vectorization, while numerical features will be used as is. I will implement a neural network with an input layer, three hidden layers, and an output layer with softmax activation to classify job ratings. The model will be trained using 75% of the data, with 20% of the training data reserved for validation, and evaluated on the test set. Performance will be assessed using accuracy and loss. Hyperparameters will be tuned and additional feature engineering explored to enhance model performance and generalization."
   ]
  },
  {
   "cell_type": "markdown",
   "metadata": {},
   "source": [
    "## Part 5: Implement Your Project Plan\n",
    "\n",
    "<b>Task:</b> In the code cell below, import additional packages that you have used in this course that you will need to implement your project plan."
   ]
  },
  {
   "cell_type": "code",
   "execution_count": 9,
   "metadata": {},
   "outputs": [],
   "source": [
    "import pandas as pd\n",
    "import numpy as np\n",
    "import matplotlib.pyplot as plt\n",
    "import seaborn as sns\n",
    "\n",
    "#------------------------------------------------------------------#\n",
    "# Natural Language Processing\n",
    "from sklearn.feature_extraction.text import TfidfVectorizer\n",
    "from sklearn.pipeline import Pipeline\n",
    "from sklearn.preprocessing import StandardScaler\n",
    "\n",
    "#------------------------------------------------------------------#\n",
    "\n",
    "# Machine Learning models\n",
    "from sklearn.linear_model import LogisticRegression\n",
    "from sklearn.ensemble import RandomForestClassifier\n",
    "\n",
    "#------------------------------------------------------------------#\n",
    "\n",
    "# Model evaluation\n",
    "from sklearn.model_selection import train_test_split, cross_val_score\n",
    "from sklearn.metrics import accuracy_score, precision_score, recall_score, f1_score, confusion_matrix\n",
    "\n",
    "#------------------------------------------------------------------#\n",
    "\n",
    "#Neural Network\n",
    "import pandas as pd\n",
    "import numpy as np\n",
    "import tensorflow as tf\n",
    "from tensorflow.keras.models import Sequential\n",
    "from tensorflow.keras.layers import InputLayer, Dense, Dropout\n",
    "from tensorflow.keras.preprocessing.text import Tokenizer\n",
    "from tensorflow.keras.preprocessing.sequence import pad_sequences\n",
    "from tensorflow.keras.utils import to_categorical\n",
    "from tensorflow.keras.optimizers import SGD\n",
    "from tensorflow.keras.losses import CategoricalCrossentropy\n",
    "from sklearn.preprocessing import LabelEncoder\n",
    "from sklearn.model_selection import train_test_split\n",
    "from sklearn.metrics import accuracy_score, precision_score, recall_score, f1_score, confusion_matrix\n",
    "\n",
    "import warnings\n",
    "warnings.filterwarnings('ignore')\n"
   ]
  },
  {
   "cell_type": "markdown",
   "metadata": {},
   "source": [
    "<b>Task:</b> Use the rest of this notebook to carry out your project plan. \n",
    "\n",
    "You will:\n",
    "\n",
    "1. Prepare your data for your model.\n",
    "2. Fit your model to the training data and evaluate your model.\n",
    "3. Improve your model's performance by performing model selection and/or feature selection techniques to find best model for your problem.\n",
    "\n",
    "Add code cells below and populate the notebook with commentary, code, analyses, results, and figures as you see fit. "
   ]
  },
  {
   "cell_type": "code",
   "execution_count": 10,
   "metadata": {},
   "outputs": [],
   "source": [
    "y = df['overall_rating']\n",
    "X = df.drop(columns=['overall_rating'])"
   ]
  },
  {
   "cell_type": "code",
   "execution_count": 11,
   "metadata": {},
   "outputs": [],
   "source": [
    "X_train, X_test, y_train, y_test = train_test_split(X, y, test_size=0.25)"
   ]
  },
  {
   "cell_type": "code",
   "execution_count": 13,
   "metadata": {},
   "outputs": [
    {
     "name": "stdout",
     "output_type": "stream",
     "text": [
      "Unique adjusted labels: [1 2 3 4 5]\n"
     ]
    }
   ],
   "source": [
    "label_encoder = LabelEncoder()\n",
    "\n",
    "y_train_encoded = label_encoder.fit_transform(y_train)\n",
    "\n",
    "y_train_adjusted = y_train_encoded + 1\n",
    "\n",
    "unique_adjusted_labels = np.unique(y_train_adjusted)\n",
    "print(f\"Unique adjusted labels: {unique_adjusted_labels}\")\n",
    "\n",
    "num_classes = len(unique_adjusted_labels)  # Should be 5\n",
    "y_train = to_categorical(y_train_adjusted - 1, num_classes=num_classes)\n",
    "\n",
    "y_test_encoded = label_encoder.transform(y_test)\n",
    "y_test_adjusted = y_test_encoded + 1\n",
    "y_test = to_categorical(y_test_adjusted - 1, num_classes=num_classes)"
   ]
  },
  {
   "cell_type": "code",
   "execution_count": 14,
   "metadata": {},
   "outputs": [
    {
     "name": "stdout",
     "output_type": "stream",
     "text": [
      "X_train_tfidf shape: (100397, 30768)\n",
      "X_test_tfidf shape: (33466, 30768)\n"
     ]
    }
   ],
   "source": [
    "tfidf_vectorizer = TfidfVectorizer()\n",
    "\n",
    "tfidf_vectorizer.fit(X_train['review_text'])\n",
    "\n",
    "X_train_tfidf = tfidf_vectorizer.transform(X_train['review_text'])\n",
    "\n",
    "X_test_tfidf = tfidf_vectorizer.transform(X_test['review_text'])\n",
    "\n",
    "print('X_train_tfidf shape:', X_train_tfidf.shape)\n",
    "print('X_test_tfidf shape:', X_test_tfidf.shape)\n"
   ]
  },
  {
   "cell_type": "code",
   "execution_count": 15,
   "metadata": {},
   "outputs": [
    {
     "name": "stdout",
     "output_type": "stream",
     "text": [
      "30768\n"
     ]
    }
   ],
   "source": [
    "vocabulary_size = len(tfidf_vectorizer.vocabulary_)\n",
    "\n",
    "print(vocabulary_size)"
   ]
  },
  {
   "cell_type": "code",
   "execution_count": 16,
   "metadata": {},
   "outputs": [
    {
     "data": {
      "text/html": [
       "<pre style=\"white-space:pre;overflow-x:auto;line-height:normal;font-family:Menlo,'DejaVu Sans Mono',consolas,'Courier New',monospace\"><span style=\"font-weight: bold\">Model: \"sequential\"</span>\n",
       "</pre>\n"
      ],
      "text/plain": [
       "\u001b[1mModel: \"sequential\"\u001b[0m\n"
      ]
     },
     "metadata": {},
     "output_type": "display_data"
    },
    {
     "data": {
      "text/html": [
       "<pre style=\"white-space:pre;overflow-x:auto;line-height:normal;font-family:Menlo,'DejaVu Sans Mono',consolas,'Courier New',monospace\">┏━━━━━━━━━━━━━━━━━━━━━━━━━━━━━━━━━━━━━━┳━━━━━━━━━━━━━━━━━━━━━━━━━━━━━┳━━━━━━━━━━━━━━━━━┓\n",
       "┃<span style=\"font-weight: bold\"> Layer (type)                         </span>┃<span style=\"font-weight: bold\"> Output Shape                </span>┃<span style=\"font-weight: bold\">         Param # </span>┃\n",
       "┡━━━━━━━━━━━━━━━━━━━━━━━━━━━━━━━━━━━━━━╇━━━━━━━━━━━━━━━━━━━━━━━━━━━━━╇━━━━━━━━━━━━━━━━━┩\n",
       "│ dense (<span style=\"color: #0087ff; text-decoration-color: #0087ff\">Dense</span>)                        │ (<span style=\"color: #00d7ff; text-decoration-color: #00d7ff\">None</span>, <span style=\"color: #00af00; text-decoration-color: #00af00\">128</span>)                 │       <span style=\"color: #00af00; text-decoration-color: #00af00\">3,938,432</span> │\n",
       "├──────────────────────────────────────┼─────────────────────────────┼─────────────────┤\n",
       "│ dropout (<span style=\"color: #0087ff; text-decoration-color: #0087ff\">Dropout</span>)                    │ (<span style=\"color: #00d7ff; text-decoration-color: #00d7ff\">None</span>, <span style=\"color: #00af00; text-decoration-color: #00af00\">128</span>)                 │               <span style=\"color: #00af00; text-decoration-color: #00af00\">0</span> │\n",
       "├──────────────────────────────────────┼─────────────────────────────┼─────────────────┤\n",
       "│ dense_1 (<span style=\"color: #0087ff; text-decoration-color: #0087ff\">Dense</span>)                      │ (<span style=\"color: #00d7ff; text-decoration-color: #00d7ff\">None</span>, <span style=\"color: #00af00; text-decoration-color: #00af00\">64</span>)                  │           <span style=\"color: #00af00; text-decoration-color: #00af00\">8,256</span> │\n",
       "├──────────────────────────────────────┼─────────────────────────────┼─────────────────┤\n",
       "│ dropout_1 (<span style=\"color: #0087ff; text-decoration-color: #0087ff\">Dropout</span>)                  │ (<span style=\"color: #00d7ff; text-decoration-color: #00d7ff\">None</span>, <span style=\"color: #00af00; text-decoration-color: #00af00\">64</span>)                  │               <span style=\"color: #00af00; text-decoration-color: #00af00\">0</span> │\n",
       "├──────────────────────────────────────┼─────────────────────────────┼─────────────────┤\n",
       "│ dense_2 (<span style=\"color: #0087ff; text-decoration-color: #0087ff\">Dense</span>)                      │ (<span style=\"color: #00d7ff; text-decoration-color: #00d7ff\">None</span>, <span style=\"color: #00af00; text-decoration-color: #00af00\">32</span>)                  │           <span style=\"color: #00af00; text-decoration-color: #00af00\">2,080</span> │\n",
       "├──────────────────────────────────────┼─────────────────────────────┼─────────────────┤\n",
       "│ dropout_2 (<span style=\"color: #0087ff; text-decoration-color: #0087ff\">Dropout</span>)                  │ (<span style=\"color: #00d7ff; text-decoration-color: #00d7ff\">None</span>, <span style=\"color: #00af00; text-decoration-color: #00af00\">32</span>)                  │               <span style=\"color: #00af00; text-decoration-color: #00af00\">0</span> │\n",
       "├──────────────────────────────────────┼─────────────────────────────┼─────────────────┤\n",
       "│ dense_3 (<span style=\"color: #0087ff; text-decoration-color: #0087ff\">Dense</span>)                      │ (<span style=\"color: #00d7ff; text-decoration-color: #00d7ff\">None</span>, <span style=\"color: #00af00; text-decoration-color: #00af00\">5</span>)                   │             <span style=\"color: #00af00; text-decoration-color: #00af00\">165</span> │\n",
       "└──────────────────────────────────────┴─────────────────────────────┴─────────────────┘\n",
       "</pre>\n"
      ],
      "text/plain": [
       "┏━━━━━━━━━━━━━━━━━━━━━━━━━━━━━━━━━━━━━━┳━━━━━━━━━━━━━━━━━━━━━━━━━━━━━┳━━━━━━━━━━━━━━━━━┓\n",
       "┃\u001b[1m \u001b[0m\u001b[1mLayer (type)                        \u001b[0m\u001b[1m \u001b[0m┃\u001b[1m \u001b[0m\u001b[1mOutput Shape               \u001b[0m\u001b[1m \u001b[0m┃\u001b[1m \u001b[0m\u001b[1m        Param #\u001b[0m\u001b[1m \u001b[0m┃\n",
       "┡━━━━━━━━━━━━━━━━━━━━━━━━━━━━━━━━━━━━━━╇━━━━━━━━━━━━━━━━━━━━━━━━━━━━━╇━━━━━━━━━━━━━━━━━┩\n",
       "│ dense (\u001b[38;5;33mDense\u001b[0m)                        │ (\u001b[38;5;45mNone\u001b[0m, \u001b[38;5;34m128\u001b[0m)                 │       \u001b[38;5;34m3,938,432\u001b[0m │\n",
       "├──────────────────────────────────────┼─────────────────────────────┼─────────────────┤\n",
       "│ dropout (\u001b[38;5;33mDropout\u001b[0m)                    │ (\u001b[38;5;45mNone\u001b[0m, \u001b[38;5;34m128\u001b[0m)                 │               \u001b[38;5;34m0\u001b[0m │\n",
       "├──────────────────────────────────────┼─────────────────────────────┼─────────────────┤\n",
       "│ dense_1 (\u001b[38;5;33mDense\u001b[0m)                      │ (\u001b[38;5;45mNone\u001b[0m, \u001b[38;5;34m64\u001b[0m)                  │           \u001b[38;5;34m8,256\u001b[0m │\n",
       "├──────────────────────────────────────┼─────────────────────────────┼─────────────────┤\n",
       "│ dropout_1 (\u001b[38;5;33mDropout\u001b[0m)                  │ (\u001b[38;5;45mNone\u001b[0m, \u001b[38;5;34m64\u001b[0m)                  │               \u001b[38;5;34m0\u001b[0m │\n",
       "├──────────────────────────────────────┼─────────────────────────────┼─────────────────┤\n",
       "│ dense_2 (\u001b[38;5;33mDense\u001b[0m)                      │ (\u001b[38;5;45mNone\u001b[0m, \u001b[38;5;34m32\u001b[0m)                  │           \u001b[38;5;34m2,080\u001b[0m │\n",
       "├──────────────────────────────────────┼─────────────────────────────┼─────────────────┤\n",
       "│ dropout_2 (\u001b[38;5;33mDropout\u001b[0m)                  │ (\u001b[38;5;45mNone\u001b[0m, \u001b[38;5;34m32\u001b[0m)                  │               \u001b[38;5;34m0\u001b[0m │\n",
       "├──────────────────────────────────────┼─────────────────────────────┼─────────────────┤\n",
       "│ dense_3 (\u001b[38;5;33mDense\u001b[0m)                      │ (\u001b[38;5;45mNone\u001b[0m, \u001b[38;5;34m5\u001b[0m)                   │             \u001b[38;5;34m165\u001b[0m │\n",
       "└──────────────────────────────────────┴─────────────────────────────┴─────────────────┘\n"
      ]
     },
     "metadata": {},
     "output_type": "display_data"
    },
    {
     "data": {
      "text/html": [
       "<pre style=\"white-space:pre;overflow-x:auto;line-height:normal;font-family:Menlo,'DejaVu Sans Mono',consolas,'Courier New',monospace\"><span style=\"font-weight: bold\"> Total params: </span><span style=\"color: #00af00; text-decoration-color: #00af00\">3,948,933</span> (15.06 MB)\n",
       "</pre>\n"
      ],
      "text/plain": [
       "\u001b[1m Total params: \u001b[0m\u001b[38;5;34m3,948,933\u001b[0m (15.06 MB)\n"
      ]
     },
     "metadata": {},
     "output_type": "display_data"
    },
    {
     "data": {
      "text/html": [
       "<pre style=\"white-space:pre;overflow-x:auto;line-height:normal;font-family:Menlo,'DejaVu Sans Mono',consolas,'Courier New',monospace\"><span style=\"font-weight: bold\"> Trainable params: </span><span style=\"color: #00af00; text-decoration-color: #00af00\">3,948,933</span> (15.06 MB)\n",
       "</pre>\n"
      ],
      "text/plain": [
       "\u001b[1m Trainable params: \u001b[0m\u001b[38;5;34m3,948,933\u001b[0m (15.06 MB)\n"
      ]
     },
     "metadata": {},
     "output_type": "display_data"
    },
    {
     "data": {
      "text/html": [
       "<pre style=\"white-space:pre;overflow-x:auto;line-height:normal;font-family:Menlo,'DejaVu Sans Mono',consolas,'Courier New',monospace\"><span style=\"font-weight: bold\"> Non-trainable params: </span><span style=\"color: #00af00; text-decoration-color: #00af00\">0</span> (0.00 B)\n",
       "</pre>\n"
      ],
      "text/plain": [
       "\u001b[1m Non-trainable params: \u001b[0m\u001b[38;5;34m0\u001b[0m (0.00 B)\n"
      ]
     },
     "metadata": {},
     "output_type": "display_data"
    }
   ],
   "source": [
    "input_shape = X_train_tfidf.shape[1]\n",
    "\n",
    "nn_model = Sequential()\n",
    "\n",
    "nn_model.add(InputLayer(input_shape=(input_shape,)))\n",
    "\n",
    "nn_model.add(Dense(128, activation='relu'))\n",
    "nn_model.add(Dropout(0.5))\n",
    "\n",
    "nn_model.add(Dense(64, activation='relu'))\n",
    "nn_model.add(Dropout(0.5))\n",
    "\n",
    "nn_model.add(Dense(32, activation='relu'))\n",
    "nn_model.add(Dropout(0.5))\n",
    "\n",
    "nn_model.add(Dense(5, activation='softmax'))\n",
    "\n",
    "nn_model.summary()"
   ]
  },
  {
   "cell_type": "code",
   "execution_count": 17,
   "metadata": {},
   "outputs": [],
   "source": [
    "sgd_optimizer = SGD(learning_rate=0.1)"
   ]
  },
  {
   "cell_type": "code",
   "execution_count": 18,
   "metadata": {},
   "outputs": [],
   "source": [
    "loss_fn = CategoricalCrossentropy(from_logits=False)"
   ]
  },
  {
   "cell_type": "code",
   "execution_count": 19,
   "metadata": {},
   "outputs": [],
   "source": [
    "nn_model.compile(optimizer=sgd_optimizer,\n",
    "                 loss=loss_fn,\n",
    "                 metrics=['accuracy'])"
   ]
  },
  {
   "cell_type": "code",
   "execution_count": 20,
   "metadata": {},
   "outputs": [],
   "source": [
    "class ProgBarLoggerNEpochs(tf.keras.callbacks.Callback):\n",
    "    def __init__(self, num_epochs: int, every_n: int = 50):\n",
    "        super(ProgBarLoggerNEpochs, self).__init__()\n",
    "        self.num_epochs = num_epochs\n",
    "        self.every_n = every_n\n",
    "    \n",
    "    def on_epoch_end(self, epoch, logs=None):\n",
    "        if (epoch + 1) % self.every_n == 0:\n",
    "            s = 'Epoch [{}/ {}]'.format(epoch + 1, self.num_epochs)\n",
    "            logs_s = ['{}: {:.4f}'.format(k.capitalize(), v)\n",
    "                      for k, v in logs.items()]\n",
    "            s_list = [s] + logs_s\n",
    "            print(', '.join(s_list))"
   ]
  },
  {
   "cell_type": "code",
   "execution_count": 21,
   "metadata": {},
   "outputs": [
    {
     "name": "stdout",
     "output_type": "stream",
     "text": [
      "Epoch 1/20\n",
      "\u001b[1m1125/1125\u001b[0m \u001b[32m━━━━━━━━━━━━━━━━━━━━\u001b[0m\u001b[37m\u001b[0m \u001b[1m26s\u001b[0m 20ms/step - accuracy: 0.3323 - loss: 1.4209 - val_accuracy: 0.4094 - val_loss: 1.2766\n",
      "Epoch 2/20\n",
      "\u001b[1m1125/1125\u001b[0m \u001b[32m━━━━━━━━━━━━━━━━━━━━\u001b[0m\u001b[37m\u001b[0m \u001b[1m16s\u001b[0m 14ms/step - accuracy: 0.4099 - loss: 1.2966 - val_accuracy: 0.4471 - val_loss: 1.1917\n",
      "Epoch 3/20\n",
      "\u001b[1m1125/1125\u001b[0m \u001b[32m━━━━━━━━━━━━━━━━━━━━\u001b[0m\u001b[37m\u001b[0m \u001b[1m15s\u001b[0m 13ms/step - accuracy: 0.4385 - loss: 1.2414 - val_accuracy: 0.4617 - val_loss: 1.1749\n",
      "Epoch 4/20\n",
      "\u001b[1m1125/1125\u001b[0m \u001b[32m━━━━━━━━━━━━━━━━━━━━\u001b[0m\u001b[37m\u001b[0m \u001b[1m15s\u001b[0m 14ms/step - accuracy: 0.4526 - loss: 1.1979 - val_accuracy: 0.4822 - val_loss: 1.1408\n",
      "Epoch 5/20\n",
      "\u001b[1m1124/1125\u001b[0m \u001b[32m━━━━━━━━━━━━━━━━━━━\u001b[0m\u001b[37m━\u001b[0m \u001b[1m0s\u001b[0m 12ms/step - accuracy: 0.4702 - loss: 1.1747Epoch [5/ 20], Accuracy: 0.4712, Loss: 1.1730, Val_accuracy: 0.4866, Val_loss: 1.1349\n",
      "\u001b[1m1125/1125\u001b[0m \u001b[32m━━━━━━━━━━━━━━━━━━━━\u001b[0m\u001b[37m\u001b[0m \u001b[1m15s\u001b[0m 14ms/step - accuracy: 0.4702 - loss: 1.1747 - val_accuracy: 0.4866 - val_loss: 1.1349\n",
      "Epoch 6/20\n",
      "\u001b[1m1125/1125\u001b[0m \u001b[32m━━━━━━━━━━━━━━━━━━━━\u001b[0m\u001b[37m\u001b[0m \u001b[1m15s\u001b[0m 13ms/step - accuracy: 0.4714 - loss: 1.1615 - val_accuracy: 0.4781 - val_loss: 1.1421\n",
      "Epoch 7/20\n",
      "\u001b[1m1125/1125\u001b[0m \u001b[32m━━━━━━━━━━━━━━━━━━━━\u001b[0m\u001b[37m\u001b[0m \u001b[1m15s\u001b[0m 14ms/step - accuracy: 0.4821 - loss: 1.1395 - val_accuracy: 0.4843 - val_loss: 1.1793\n",
      "Epoch 8/20\n",
      "\u001b[1m1125/1125\u001b[0m \u001b[32m━━━━━━━━━━━━━━━━━━━━\u001b[0m\u001b[37m\u001b[0m \u001b[1m16s\u001b[0m 14ms/step - accuracy: 0.4962 - loss: 1.1287 - val_accuracy: 0.4836 - val_loss: 1.1323\n",
      "Epoch 9/20\n",
      "\u001b[1m1125/1125\u001b[0m \u001b[32m━━━━━━━━━━━━━━━━━━━━\u001b[0m\u001b[37m\u001b[0m \u001b[1m15s\u001b[0m 13ms/step - accuracy: 0.4894 - loss: 1.1220 - val_accuracy: 0.4984 - val_loss: 1.1164\n",
      "Epoch 10/20\n",
      "\u001b[1m1123/1125\u001b[0m \u001b[32m━━━━━━━━━━━━━━━━━━━\u001b[0m\u001b[37m━\u001b[0m \u001b[1m0s\u001b[0m 15ms/step - accuracy: 0.4996 - loss: 1.1018Epoch [10/ 20], Accuracy: 0.4974, Loss: 1.1086, Val_accuracy: 0.4806, Val_loss: 1.1475\n",
      "\u001b[1m1125/1125\u001b[0m \u001b[32m━━━━━━━━━━━━━━━━━━━━\u001b[0m\u001b[37m\u001b[0m \u001b[1m20s\u001b[0m 18ms/step - accuracy: 0.4996 - loss: 1.1018 - val_accuracy: 0.4806 - val_loss: 1.1475\n",
      "Epoch 11/20\n",
      "\u001b[1m1125/1125\u001b[0m \u001b[32m━━━━━━━━━━━━━━━━━━━━\u001b[0m\u001b[37m\u001b[0m \u001b[1m20s\u001b[0m 17ms/step - accuracy: 0.5037 - loss: 1.1044 - val_accuracy: 0.4868 - val_loss: 1.1241\n",
      "Epoch 12/20\n",
      "\u001b[1m1125/1125\u001b[0m \u001b[32m━━━━━━━━━━━━━━━━━━━━\u001b[0m\u001b[37m\u001b[0m \u001b[1m19s\u001b[0m 17ms/step - accuracy: 0.5107 - loss: 1.0855 - val_accuracy: 0.4956 - val_loss: 1.1249\n",
      "Epoch 13/20\n",
      "\u001b[1m1125/1125\u001b[0m \u001b[32m━━━━━━━━━━━━━━━━━━━━\u001b[0m\u001b[37m\u001b[0m \u001b[1m19s\u001b[0m 17ms/step - accuracy: 0.5094 - loss: 1.0831 - val_accuracy: 0.5058 - val_loss: 1.1142\n",
      "Epoch 14/20\n",
      "\u001b[1m1125/1125\u001b[0m \u001b[32m━━━━━━━━━━━━━━━━━━━━\u001b[0m\u001b[37m\u001b[0m \u001b[1m17s\u001b[0m 15ms/step - accuracy: 0.5145 - loss: 1.0704 - val_accuracy: 0.4941 - val_loss: 1.1510\n",
      "Epoch 15/20\n",
      "\u001b[1m1124/1125\u001b[0m \u001b[32m━━━━━━━━━━━━━━━━━━━\u001b[0m\u001b[37m━\u001b[0m \u001b[1m0s\u001b[0m 13ms/step - accuracy: 0.5247 - loss: 1.0629Epoch [15/ 20], Accuracy: 0.5210, Loss: 1.0650, Val_accuracy: 0.5069, Val_loss: 1.1134\n",
      "\u001b[1m1125/1125\u001b[0m \u001b[32m━━━━━━━━━━━━━━━━━━━━\u001b[0m\u001b[37m\u001b[0m \u001b[1m16s\u001b[0m 15ms/step - accuracy: 0.5247 - loss: 1.0629 - val_accuracy: 0.5069 - val_loss: 1.1134\n",
      "Epoch 16/20\n",
      "\u001b[1m1125/1125\u001b[0m \u001b[32m━━━━━━━━━━━━━━━━━━━━\u001b[0m\u001b[37m\u001b[0m \u001b[1m20s\u001b[0m 18ms/step - accuracy: 0.5224 - loss: 1.0665 - val_accuracy: 0.5041 - val_loss: 1.1119\n",
      "Epoch 17/20\n",
      "\u001b[1m1125/1125\u001b[0m \u001b[32m━━━━━━━━━━━━━━━━━━━━\u001b[0m\u001b[37m\u001b[0m \u001b[1m19s\u001b[0m 17ms/step - accuracy: 0.5238 - loss: 1.0565 - val_accuracy: 0.5020 - val_loss: 1.1155\n",
      "Epoch 18/20\n",
      "\u001b[1m1125/1125\u001b[0m \u001b[32m━━━━━━━━━━━━━━━━━━━━\u001b[0m\u001b[37m\u001b[0m \u001b[1m19s\u001b[0m 17ms/step - accuracy: 0.5276 - loss: 1.0408 - val_accuracy: 0.5043 - val_loss: 1.1223\n",
      "Epoch 19/20\n",
      "\u001b[1m1125/1125\u001b[0m \u001b[32m━━━━━━━━━━━━━━━━━━━━\u001b[0m\u001b[37m\u001b[0m \u001b[1m19s\u001b[0m 17ms/step - accuracy: 0.5393 - loss: 1.0286 - val_accuracy: 0.4987 - val_loss: 1.1351\n",
      "Epoch 20/20\n",
      "\u001b[1m1122/1125\u001b[0m \u001b[32m━━━━━━━━━━━━━━━━━━━\u001b[0m\u001b[37m━\u001b[0m \u001b[1m0s\u001b[0m 14ms/step - accuracy: 0.5431 - loss: 1.0227Epoch [20/ 20], Accuracy: 0.5378, Loss: 1.0290, Val_accuracy: 0.4976, Val_loss: 1.1301\n",
      "\u001b[1m1125/1125\u001b[0m \u001b[32m━━━━━━━━━━━━━━━━━━━━\u001b[0m\u001b[37m\u001b[0m \u001b[1m18s\u001b[0m 16ms/step - accuracy: 0.5431 - loss: 1.0228 - val_accuracy: 0.4976 - val_loss: 1.1301\n",
      "Elapsed time: 464.48s\n"
     ]
    }
   ],
   "source": [
    "import time\n",
    "\n",
    "t0 = time.time()\n",
    "\n",
    "X_train_tfidf_array = X_train_tfidf.toarray()\n",
    "\n",
    "num_epochs = 20\n",
    "\n",
    "sample_size = 45000  # Adjust as necessary\n",
    "X_train_tfidf_subset = X_train_tfidf_array[:sample_size]\n",
    "y_train_subset = y_train[:sample_size]\n",
    "\n",
    "history = nn_model.fit(\n",
    "    X_train_tfidf_subset,  \n",
    "    y_train_subset,       \n",
    "    epochs=num_epochs,   \n",
    "    verbose=1,             \n",
    "    validation_split=0.2,\n",
    "    callbacks=[ProgBarLoggerNEpochs(num_epochs, every_n=5)]\n",
    ")\n",
    "\n",
    "# Stop time\n",
    "t1 = time.time()\n",
    "\n",
    "# Print elapsed time\n",
    "print('Elapsed time: %.2fs' % (t1 - t0))"
   ]
  },
  {
   "cell_type": "code",
   "execution_count": 22,
   "metadata": {},
   "outputs": [
    {
     "data": {
      "text/plain": [
       "dict_keys(['accuracy', 'loss', 'val_accuracy', 'val_loss'])"
      ]
     },
     "execution_count": 22,
     "metadata": {},
     "output_type": "execute_result"
    }
   ],
   "source": [
    "history.history.keys()"
   ]
  },
  {
   "cell_type": "code",
   "execution_count": 23,
   "metadata": {},
   "outputs": [
    {
     "data": {
      "image/png": "[encoded data removed]",
      "text/plain": [
       "<Figure size 640x480 with 1 Axes>"
      ]
     },
     "metadata": {},
     "output_type": "display_data"
    },
    {
     "data": {
      "image/png": "[encoded data removed]",
      "text/plain": [
       "<Figure size 640x480 with 1 Axes>"
      ]
     },
     "metadata": {},
     "output_type": "display_data"
    }
   ],
   "source": [
    "# Plot training and validation loss\n",
    "plt.plot(range(1, num_epochs + 1), history.history['loss'], label='Training Loss')\n",
    "plt.plot(range(1, num_epochs + 1), history.history['val_loss'], label='Validation Loss')\n",
    "\n",
    "plt.xlabel('Epoch')\n",
    "plt.ylabel('Loss')\n",
    "plt.legend()\n",
    "plt.show()\n",
    "\n",
    "\n",
    "# Plot training and validation accuracy\n",
    "plt.plot(range(1, num_epochs + 1), history.history['accuracy'], label='Training Accuracy')\n",
    "plt.plot(range(1, num_epochs + 1), history.history['val_accuracy'], label='Validation Accuracy')\n",
    "\n",
    "plt.xlabel('Epoch')\n",
    "plt.ylabel('Accuracy')\n",
    "plt.legend()\n",
    "plt.show()"
   ]
  },
  {
   "cell_type": "code",
   "execution_count": 24,
   "metadata": {},
   "outputs": [
    {
     "name": "stdout",
     "output_type": "stream",
     "text": [
      "\u001b[1m1046/1046\u001b[0m \u001b[32m━━━━━━━━━━━━━━━━━━━━\u001b[0m\u001b[37m\u001b[0m \u001b[1m11s\u001b[0m 10ms/step - accuracy: 0.5022 - loss: 1.1326\n",
      "Loss:  1.1246013641357422 Accuracy:  0.5069622993469238\n"
     ]
    }
   ],
   "source": [
    "loss, accuracy = nn_model.evaluate(X_test_tfidf.toarray(), y_test)\n",
    "\n",
    "print('Loss: ', str(loss) , 'Accuracy: ', str(accuracy))"
   ]
  },
  {
   "cell_type": "code",
   "execution_count": 26,
   "metadata": {},
   "outputs": [
    {
     "name": "stdout",
     "output_type": "stream",
     "text": [
      "\u001b[1m1046/1046\u001b[0m \u001b[32m━━━━━━━━━━━━━━━━━━━━\u001b[0m\u001b[37m\u001b[0m \u001b[1m8s\u001b[0m 8ms/step\n",
      "Predictions for the first 20 examples:\n",
      "Example 1: Probability = 0.4359, Predicted Label = 3, Actual Label = 2\n",
      "Example 2: Probability = 0.8927, Predicted Label = 5, Actual Label = 5\n",
      "Example 3: Probability = 0.6599, Predicted Label = 5, Actual Label = 4\n",
      "Example 4: Probability = 0.6539, Predicted Label = 5, Actual Label = 5\n",
      "Example 5: Probability = 0.6052, Predicted Label = 5, Actual Label = 5\n",
      "Example 6: Probability = 0.6038, Predicted Label = 5, Actual Label = 4\n",
      "Example 7: Probability = 0.3899, Predicted Label = 2, Actual Label = 3\n",
      "Example 8: Probability = 0.4895, Predicted Label = 4, Actual Label = 4\n",
      "Example 9: Probability = 0.5892, Predicted Label = 5, Actual Label = 4\n",
      "Example 10: Probability = 0.4858, Predicted Label = 4, Actual Label = 4\n",
      "Example 11: Probability = 0.4767, Predicted Label = 4, Actual Label = 5\n",
      "Example 12: Probability = 0.4619, Predicted Label = 4, Actual Label = 4\n",
      "Example 13: Probability = 0.4692, Predicted Label = 4, Actual Label = 2\n",
      "Example 14: Probability = 0.5761, Predicted Label = 5, Actual Label = 4\n",
      "Example 15: Probability = 0.4773, Predicted Label = 4, Actual Label = 3\n",
      "Example 16: Probability = 0.4217, Predicted Label = 3, Actual Label = 2\n",
      "Example 17: Probability = 0.4776, Predicted Label = 3, Actual Label = 3\n",
      "Example 18: Probability = 0.4847, Predicted Label = 4, Actual Label = 4\n",
      "Example 19: Probability = 0.4441, Predicted Label = 3, Actual Label = 5\n",
      "Example 20: Probability = 0.6496, Predicted Label = 5, Actual Label = 5\n"
     ]
    }
   ],
   "source": [
    "probability_predictions = nn_model.predict(X_test_tfidf.toarray())\n",
    "\n",
    "y_test_array = y_test.argmax(axis=1)  # Convert one-hot encoded y_test back to labels\n",
    "\n",
    "print(\"Predictions for the first 20 examples:\")\n",
    "\n",
    "for i in range(20):\n",
    "    predicted_label = np.argmax(probability_predictions[i])\n",
    "    actual_label = y_test_array[i]\n",
    "\n",
    "    probability = probability_predictions[i][predicted_label]\n",
    "    \n",
    "    print(f\"Example {i + 1}: Probability = {probability:.4f}, Predicted Label = {predicted_label + 1}, Actual Label = {actual_label + 1}\")\n"
   ]
  },
  {
   "cell_type": "code",
   "execution_count": 36,
   "metadata": {},
   "outputs": [
    {
     "name": "stdout",
     "output_type": "stream",
     "text": [
      "Review #1:\n",
      "\n",
      "They could to a lot better Work hours 9am - 5pm Poor training and development, no rewards, low salary and no encouragement to progress.\n",
      "\n",
      "Predicted Rating: 3\n",
      "\n",
      "Actual Rating: 2\n",
      "\n",
      "--------------------------------------------------------------------------------\n",
      "Review #2:\n",
      "\n",
      "Company review from my side Best working people and good environment No cons best environment company and nothing to say\n",
      "\n",
      "Predicted Rating: 5\n",
      "\n",
      "Actual Rating: 5\n",
      "\n",
      "--------------------------------------------------------------------------------\n",
      "Review #3:\n",
      "\n",
      "Great place to research Well funded research with great guidance to students Slow to react to changing circumstances e.g. Covid\n",
      "\n",
      "Predicted Rating: 5\n",
      "\n",
      "Actual Rating: 4\n",
      "\n",
      "--------------------------------------------------------------------------------\n",
      "Review #4:\n",
      "\n",
      "Great company to work for There are great opportunities within Firstport to learn new skills, there are also great promotional opportunities for those who want to progress within the company. none that I can think of.\n",
      "\n",
      "Predicted Rating: 5\n",
      "\n",
      "Actual Rating: 5\n",
      "\n",
      "--------------------------------------------------------------------------------\n",
      "Review #5:\n",
      "\n",
      "Manager Amazing culture and lots of growth opportunities A lot of layers and process\n",
      "\n",
      "Predicted Rating: 5\n",
      "\n",
      "Actual Rating: 5\n",
      "\n",
      "--------------------------------------------------------------------------------\n",
      "Review #6:\n",
      "\n",
      "Can be a great place to work Great benefits, that are getting more expensive like everything Illogical RIF's that make no sense\n",
      "\n",
      "Predicted Rating: 5\n",
      "\n",
      "Actual Rating: 4\n",
      "\n",
      "--------------------------------------------------------------------------------\n",
      "Review #7:\n",
      "\n",
      "Unfair Management Work life balance, kind officemates, nice office Unfair management, not good for starters\n",
      "\n",
      "Predicted Rating: 2\n",
      "\n",
      "Actual Rating: 3\n",
      "\n",
      "--------------------------------------------------------------------------------\n",
      "Review #8:\n",
      "\n",
      "Good for work life balance Good clients and environment to work and decent hikes Career Growth and elevation might be an issue.\n",
      "However if you are good in selling and bring business you will get paid and recognise\n",
      "\n",
      "Predicted Rating: 4\n",
      "\n",
      "Actual Rating: 4\n",
      "\n",
      "--------------------------------------------------------------------------------\n",
      "Review #9:\n",
      "\n",
      "Loved this job only left to go on maternity leave Loved my customers easy job Constantly taking trainings on computer\n",
      "\n",
      "Predicted Rating: 5\n",
      "\n",
      "Actual Rating: 4\n",
      "\n",
      "--------------------------------------------------------------------------------\n",
      "Review #10:\n",
      "\n",
      "Good company Good benefits, good gym and cafe some teams are not efficient and automatically\n",
      "\n",
      "Predicted Rating: 4\n",
      "\n",
      "Actual Rating: 4\n",
      "\n",
      "--------------------------------------------------------------------------------\n"
     ]
    }
   ],
   "source": [
    "num_reviews_to_display = 10\n",
    "\n",
    "num_reviews_to_display = min(num_reviews_to_display, len(X_test))\n",
    "\n",
    "review_texts = df.loc[X_test.index, 'review_text'].tolist() \n",
    "\n",
    "for i in range(num_reviews_to_display):\n",
    "    sample_index = i\n",
    "    \n",
    " review_text = review_texts[sample_index]\n",
    "    predicted_probabilities = probability_predictions[sample_index]\n",
    "    predicted_rating = np.argmax(predicted_probabilities) + 1\n",
    "    actual_rating = np.argmax(y_test[sample_index]) + 1\n",
    "    \n",
    "    print(f'Review #{sample_index + 1}:\\n')\n",
    "    print(review_text)\n",
    "    print(f'\\nPredicted Rating: {predicted_rating}\\n')\n",
    "    print(f'Actual Rating: {actual_rating}\\n')\n",
    "    print('-' * 80) \n"
   ]
  },
  {
   "cell_type": "code",
   "execution_count": 58,
   "metadata": {},
   "outputs": [
    {
     "name": "stdout",
     "output_type": "stream",
     "text": [
      "Confusion Matrix:\n",
      "[[ 922  279  534  177   32]\n",
      " [ 378  291 1161  495   49]\n",
      " [ 186  260 2784 3108  391]\n",
      " [  31   93 1714 6733 2350]\n",
      " [  31   38  628 4565 6236]]\n"
     ]
    }
   ],
   "source": [
    "predicted_labels = np.argmax(probability_predictions, axis=1) + 1 \n",
    "\n",
    "actual_labels = np.argmax(y_test, axis=1) + 1  # Convert to 1-based index\n",
    "\n",
    "conf_matrix = confusion_matrix(actual_labels, predicted_labels, labels=[1, 2, 3, 4, 5])\n",
    "\n",
    "print(\"Confusion Matrix:\")\n",
    "print(conf_matrix)\n"
   ]
  },
  {
   "cell_type": "code",
   "execution_count": 74,
   "metadata": {},
   "outputs": [
    {
     "data": {
      "image/png": "[encoded data removed]",
      "text/plain": [
       "<Figure size 1000x800 with 2 Axes>"
      ]
     },
     "metadata": {},
     "output_type": "display_data"
    }
   ],
   "source": [
    "predicted_labels = np.argmax(probability_predictions, axis=1) + 1 \n",
    "\n",
    "actual_labels = np.argmax(y_test, axis=1) + 1 \n",
    "\n",
    "conf_matrix = confusion_matrix(actual_labels, predicted_labels, labels=[1, 2, 3, 4, 5])\n",
    "\n",
    "row_sums = conf_matrix.sum(axis=1, keepdims=True)\n",
    "conf_matrix_percentage = conf_matrix.astype(float) / row_sums\n",
    "conf_matrix_percentage = np.nan_to_num(conf_matrix_percentage)\n",
    "\n",
    "plt.figure(figsize=(10, 8))\n",
    "plt.imshow(conf_matrix_percentage, cmap='Blues', vmin=0, vmax=1)\n",
    "plt.colorbar(label='Percentage')\n",
    "\n",
    "for i in range(conf_matrix_percentage.shape[0]):\n",
    "    for j in range(conf_matrix_percentage.shape[1]):\n",
    "        plt.text(j, i, f'{conf_matrix_percentage[i, j]:.2f}',\n",
    "                 ha='center', va='center', color='black', fontsize=12)\n",
    "\n",
    "plt.xlabel('Predicted Rating', fontsize=14)\n",
    "plt.ylabel('Actual Rating', fontsize=14)\n",
    "plt.title('Confusion Matrix Percentage Heatmap', fontsize=16)\n",
    "plt.xticks(ticks=np.arange(5), labels=[1, 2, 3, 4, 5], fontsize=12)\n",
    "plt.yticks(ticks=np.arange(5), labels=[1, 2, 3, 4, 5], fontsize=12)\n",
    "plt.grid(False)  # Disable gridlines in the plot\n",
    "plt.show()\n"
   ]
  },
  {
   "cell_type": "code",
   "execution_count": null,
   "metadata": {},
   "outputs": [],
   "source": []
  }
 ],
 "metadata": {
  "kernelspec": {
   "display_name": "Python 3 (ipykernel)",
   "language": "python",
   "name": "python3"
  },
  "language_info": {
   "codemirror_mode": {
    "name": "ipython",
    "version": 3
   },
   "file_extension": ".py",
   "mimetype": "text/x-python",
   "name": "python",
   "nbconvert_exporter": "python",
   "pygments_lexer": "ipython3",
   "version": "3.11.5"
  },
  "toc": {
   "base_numbering": 1,
   "nav_menu": {},
   "number_sections": false,
   "sideBar": true,
   "skip_h1_title": false,
   "title_cell": "Table of Contents",
   "title_sidebar": "Contents",
   "toc_cell": false,
   "toc_position": {},
   "toc_section_display": true,
   "toc_window_display": false
  },
  "varInspector": {
   "cols": {
    "lenName": 16,
    "lenType": 16,
    "lenVar": 40
   },
   "kernels_config": {
    "python": {
     "delete_cmd_postfix": "",
     "delete_cmd_prefix": "del ",
     "library": "var_list.py",
     "varRefreshCmd": "print(var_dic_list())"
    },
    "r": {
     "delete_cmd_postfix": ") ",
     "delete_cmd_prefix": "rm(",
     "library": "var_list.r",
     "varRefreshCmd": "cat(var_dic_list()) "
    }
   },
   "types_to_exclude": [
    "module",
    "function",
    "builtin_function_or_method",
    "instance",
    "_Feature"
   ],
   "window_display": false
  }
 },
 "nbformat": 4,
 "nbformat_minor": 4
}
